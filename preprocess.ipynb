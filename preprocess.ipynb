{
 "cells": [
  {
   "cell_type": "code",
   "execution_count": 5,
   "metadata": {},
   "outputs": [],
   "source": [
    "import pandas as pd\n",
    "import math\n",
    "from mekerere.IOUtility import crop_and_resize_on_bounding_box\n",
    "import cv2 as cv\n",
    "import shutil\n",
    "import os"
   ]
  },
  {
   "cell_type": "markdown",
   "metadata": {},
   "source": [
    "# Crop and resize images based on bounding box"
   ]
  },
  {
   "cell_type": "code",
   "execution_count": 6,
   "metadata": {},
   "outputs": [],
   "source": [
    "ROOT_DATA_PATH = \"Data\"\n",
    "IMAGE_DIR = f\"{ROOT_DATA_PATH}/Train_Images\"\n",
    "OUTPUT_CROPPED_DIR = f\"{ROOT_DATA_PATH}/Cropped_Images\"\n",
    "training_data_file = f\"{ROOT_DATA_PATH}/Train.csv\"\n",
    "cropped_data_file = f\"{ROOT_DATA_PATH}/Cropped.csv\""
   ]
  },
  {
   "cell_type": "code",
   "execution_count": 7,
   "metadata": {},
   "outputs": [],
   "source": [
    "def crop_resize_save_training_images():\n",
    "    training_df = pd.read_csv(training_data_file)\n",
    "    image_filenames = os.listdir(IMAGE_DIR)\n",
    "    cropped_training_file_data = []\n",
    "    for image_filename in image_filenames:\n",
    "        dataframes = training_df.loc[image_filename.replace('.jpg','') == training_df['Image_ID']]\n",
    "        index = 0\n",
    "        for _, dataframe in dataframes.iterrows():\n",
    "            image = crop_and_resize_on_bounding_box(\n",
    "                filename = f\"{IMAGE_DIR}/{image_filename}\",\n",
    "                x_coord = math.ceil(dataframe['xmin']),\n",
    "                y_coord = math.ceil(dataframe['ymin']),\n",
    "                width = math.ceil(dataframe['width']),\n",
    "                height = math.ceil(dataframe['height'])\n",
    "            )\n",
    "            output_image_name = dataframe['Image_ID']\n",
    "            if len(dataframes) > 1:\n",
    "                index+=1\n",
    "                output_image_name += f\"_{'{:0>2}'.format(index)}\"\n",
    "\n",
    "            cv.imwrite(f\"{OUTPUT_CROPPED_DIR}/{output_image_name}.jpg\", image)\n",
    "            dataframe[\"Image_ID\"] = output_image_name\n",
    "            cropped_training_file_data.append((dataframe[\"Image_ID\"], dataframe[\"class\"]))\n",
    "\n",
    "    cropped_data = pd.DataFrame(cropped_training_file_data, columns=['Image_ID', 'class'])\n",
    "    cropped_data.to_csv(cropped_data_file)"
   ]
  },
  {
   "cell_type": "markdown",
   "metadata": {},
   "source": [
    "# Split image data into different datasets"
   ]
  },
  {
   "cell_type": "code",
   "execution_count": 8,
   "metadata": {},
   "outputs": [],
   "source": [
    "IMAGE_SIZE = 500\n",
    "TRAINING_SEED = 1\n",
    "TRAINING_PROPORTION = 0.7\n",
    "TESTING_PROPORTION = 0.2\n",
    "\n",
    "TRAINING_IMAGE_DIR = F\"{ROOT_DATA_PATH}/Train\"\n",
    "TEST_IMAGE_DIR = F\"{ROOT_DATA_PATH}/Test\"\n",
    "VALIDATION_IMAGE_DIR = F\"{ROOT_DATA_PATH}/Validation\""
   ]
  },
  {
   "cell_type": "code",
   "execution_count": 9,
   "metadata": {},
   "outputs": [],
   "source": [
    "def split_dataset():\n",
    "    traning_filenames = os.listdir(IMAGE_DIR)\n",
    "    random.seed(TRAINING_SEED)\n",
    "    total_images = len(traning_filenames)\n",
    "\n",
    "    for index, training_filename in enumerate(traning_filenames):\n",
    "        percentage = index / total_images\n",
    "        if percentage < TRAINING_PROPORTION:\n",
    "            destination = TRAINING_IMAGE_DIR\n",
    "        elif percentage < TRAINING_PROPORTION + TESTING_PROPORTION:\n",
    "            destination = TEST_IMAGE_DIR\n",
    "        else:\n",
    "            destination = VALIDATION_IMAGE_DIR\n",
    "        \n",
    "        shutil.move(f\"{IMAGE_DIR}/{training_filename}\", f\"{destination}/{training_filename}\")"
   ]
  }
 ],
 "metadata": {
  "interpreter": {
   "hash": "5f2a57deb879eeb0415da9a85fcba1c7434c135399e40604c63c8cd18fdf340b"
  },
  "kernelspec": {
   "display_name": "Python 3.8.5 64-bit ('makerere-Kyu4rfJJ-py3.8': poetry)",
   "name": "python3"
  },
  "language_info": {
   "codemirror_mode": {
    "name": "ipython",
    "version": 3
   },
   "file_extension": ".py",
   "mimetype": "text/x-python",
   "name": "python",
   "nbconvert_exporter": "python",
   "pygments_lexer": "ipython3",
   "version": "3.8.5"
  },
  "orig_nbformat": 4
 },
 "nbformat": 4,
 "nbformat_minor": 2
}
