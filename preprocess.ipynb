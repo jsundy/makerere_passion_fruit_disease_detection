{
 "cells": [
  {
   "cell_type": "code",
   "execution_count": null,
   "metadata": {},
   "outputs": [],
   "source": [
    "import os\n",
    "import pandas as pd\n",
    "import math\n",
    "from mekerere.IOUtility import crop_and_resize_on_bounding_box, write_image_to_file"
   ]
  },
  {
   "cell_type": "markdown",
   "metadata": {},
   "source": [
    "# Crop and resize images based on bounding box"
   ]
  },
  {
   "cell_type": "code",
   "execution_count": null,
   "metadata": {},
   "outputs": [],
   "source": [
    "ROOT_DATA_PATH = \"Data\"\n",
    "TRAINING_IMAGE_DIR = f\"{ROOT_DATA_PATH}/Train_Images\"\n",
    "OUTPUT_CROPPED_DIR = f\"{ROOT_DATA_PATH}/Cropped_Images\"\n",
    "training_data_file = f\"{ROOT_DATA_PATH}/Train.csv\"\n",
    "cropped_data_file = f\"{ROOT_DATA_PATH}/Cropped.csv\""
   ]
  },
  {
   "cell_type": "code",
   "execution_count": null,
   "metadata": {},
   "outputs": [],
   "source": [
    "training_df = pd.read_csv(training_data_file)\n",
    "image_filenames = os.listdir(TRAINING_IMAGE_DIR)"
   ]
  },
  {
   "cell_type": "code",
   "execution_count": null,
   "metadata": {},
   "outputs": [],
   "source": [
    "cropped_training_file_data = []\n",
    "for image_filename in image_filenames:\n",
    "    dataframes = training_df.loc[image_filename.replace('.jpg','') == training_df['Image_ID']]\n",
    "    index = 0\n",
    "    for _, dataframe in dataframes.iterrows():\n",
    "        image = crop_and_resize_on_bounding_box(\n",
    "            filename = f\"{TRAINING_IMAGE_DIR}/{image_filename}\",\n",
    "            x_coord = math.ceil(dataframe['xmin']),\n",
    "            y_coord = math.ceil(dataframe['ymin']),\n",
    "            width = math.ceil(dataframe['width']),\n",
    "            height = math.ceil(dataframe['height'])\n",
    "        )\n",
    "        output_image_name = dataframe['Image_ID']\n",
    "        if len(dataframes) > 1:\n",
    "            index+=1\n",
    "            output_image_name += f\"_{'{:0>2}'.format(index)}\"\n",
    "\n",
    "        write_image_to_file(\n",
    "            filename = f\"{OUTPUT_CROPPED_DIR}/{output_image_name}.jpg\",\n",
    "            image = image\n",
    "        )\n",
    "        dataframe[\"Image_ID\"] = output_image_name\n",
    "        cropped_training_file_data.append((dataframe[\"Image_ID\"], dataframe[\"class\"]))\n",
    "\n",
    "cropped_data = pd.DataFrame(cropped_training_file_data, columns=['Image_ID', 'class'])\n",
    "cropped_data.to_csv(cropped_data_file)"
   ]
  }
 ],
 "metadata": {
  "language_info": {
   "name": "python"
  },
  "orig_nbformat": 4
 },
 "nbformat": 4,
 "nbformat_minor": 2
}
