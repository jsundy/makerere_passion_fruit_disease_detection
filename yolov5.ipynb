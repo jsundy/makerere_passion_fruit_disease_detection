{
 "cells": [
  {
   "cell_type": "code",
   "execution_count": null,
   "metadata": {},
   "outputs": [],
   "source": [
    "import pandas as pd\n",
    "import os"
   ]
  },
  {
   "cell_type": "code",
   "execution_count": null,
   "metadata": {},
   "outputs": [],
   "source": [
    "ROOT = \"Data\"\n",
    "IMAGES = f\"{ROOT}/Train_Images\"\n",
    "LABELS = f\"{ROOT}/labels\"\n",
    "DATA = f\"{ROOT}/Train.csv\"\n",
    "YOLO_DATA = f\"{ROOT}/Transformed_Data\"\n",
    "IMAGE_SIZE = 512"
   ]
  },
  {
   "cell_type": "code",
   "execution_count": null,
   "metadata": {},
   "outputs": [],
   "source": [
    "classes = {\n",
    "    \"fruit_woodiness\": 0,\n",
    "    \"fruit_brownspot\": 1,\n",
    "    \"fruit_healthy\": 2\n",
    "}"
   ]
  },
  {
   "cell_type": "code",
   "execution_count": null,
   "metadata": {},
   "outputs": [],
   "source": [
    "df = pd.read_csv(DATA)\n",
    "image_filenames = os.listdir(IMAGES)"
   ]
  },
  {
   "cell_type": "code",
   "execution_count": null,
   "metadata": {},
   "outputs": [],
   "source": [
    "def get_metric_data_from_image(image_df):\n",
    "    x_center = image_df[\"xmin\"] + image_df[\"width\"]/2\n",
    "    y_center = image_df[\"ymin\"] + image_df[\"height\"]/2\n",
    "    data = [x_center, y_center, image_df[\"width\"], image_df[\"height\"]]\n",
    "    data = [d/IMAGE_SIZE for d in data]\n",
    "    return data\n",
    "\n",
    "def write_to_text_file(filename, image_data):\n",
    "    with open(f'{filename}.txt', 'w') as f:\n",
    "        for data in image_data:\n",
    "            list_data = ' '.join([str(elem) for elem in data])\n",
    "            f.write(list_data + \"\\n\")\n",
    "\n",
    "def generate_textfile_for_image(image_name):\n",
    "    file_name = image_name.replace(\".jpg\", \"\")\n",
    "    image_objects = df.loc[df[\"Image_ID\"] == file_name]\n",
    "    data = []\n",
    "    for index, image_object in image_objects.iterrows():\n",
    "        image_data = get_metric_data_from_image(image_object)\n",
    "        labeled_name = classes[image_object[\"class\"]]\n",
    "        image_data.insert(0, labeled_name)\n",
    "        data.append(image_data)\n",
    "\n",
    "    write_to_text_file(f\"{YOLO_DATA}/{file_name}\", data)"
   ]
  },
  {
   "cell_type": "code",
   "execution_count": null,
   "metadata": {},
   "outputs": [],
   "source": [
    "text_file_len = len(os.listdir(LABELS))\n",
    "image_len = len(os.listdir(IMAGES))\n",
    "assert(image_len == text_file_len)"
   ]
  },
  {
   "cell_type": "code",
   "execution_count": null,
   "metadata": {},
   "outputs": [],
   "source": [
    "!python train.py --img 512 --batch 16 --epochs 10 --data dataset.yaml"
   ]
  }
 ],
 "metadata": {
  "interpreter": {
   "hash": "60a7b2ffabb6fe6c36499cb0f2c1db8edfe1ab2329e86eae3f70c74c47fb2a43"
  },
  "kernelspec": {
   "display_name": "Python 3.8.5 64-bit ('yolo-EQDSnytZ-py3.8': poetry)",
   "name": "python3"
  },
  "language_info": {
   "codemirror_mode": {
    "name": "ipython",
    "version": 3
   },
   "file_extension": ".py",
   "mimetype": "text/x-python",
   "name": "python",
   "nbconvert_exporter": "python",
   "pygments_lexer": "ipython3",
   "version": "3.8.5"
  },
  "orig_nbformat": 4
 },
 "nbformat": 4,
 "nbformat_minor": 2
}
